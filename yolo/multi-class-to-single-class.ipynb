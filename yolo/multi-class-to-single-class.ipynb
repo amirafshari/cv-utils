{
 "cells": [
  {
   "cell_type": "markdown",
   "metadata": {
    "tags": []
   },
   "source": [
    "# Convert all classes to 0"
   ]
  },
  {
   "cell_type": "code",
   "execution_count": 1,
   "metadata": {},
   "outputs": [],
   "source": [
    "import numpy as np\n",
    "import os"
   ]
  },
  {
   "cell_type": "code",
   "execution_count": 2,
   "metadata": {},
   "outputs": [],
   "source": [
    "# read the annotation files\n",
    "files= []\n",
    "names = []\n",
    "paths = ['dataset/train/labels/', 'dataset/test/labels/', 'dataset/val/labels/']\n",
    "\n",
    "for path in paths:\n",
    "    for e in os.listdir(path):\n",
    "        names.append(e)\n",
    "        files.append(np.loadtxt(os.path.join(path, e)).tolist())\n",
    "        \n",
    "\n",
    "\n",
    "    # fix the classes (replace them with 0)\n",
    "    for i, objects in enumerate(files):\n",
    "        for obj in objects:\n",
    "            if type(obj) != list:\n",
    "                files[i][0] = int(0)\n",
    "            else:\n",
    "                for ii, obj in enumerate(objects):\n",
    "                    files[i][ii][0] = int(0)\n",
    "\n",
    "\n",
    "\n",
    "\n",
    "    # save them as txt\n",
    "    fmt = '%.10g'\n",
    "\n",
    "    for n, f in zip(names, files):\n",
    "        for e in f:\n",
    "            if type(e) != list:\n",
    "                np.savetxt(os.path.join(path, n), f, newline=' ',fmt=fmt)\n",
    "            else:\n",
    "                np.savetxt(os.path.join(path, n), f, fmt=fmt)"
   ]
  }
 ],
 "metadata": {
  "interpreter": {
   "hash": "916dbcbb3f70747c44a77c7bcd40155683ae19c65e1c03b4aa3499c5328201f1"
  },
  "kernelspec": {
   "display_name": "Python 3 (ipykernel)",
   "language": "python",
   "name": "python3"
  },
  "language_info": {
   "codemirror_mode": {
    "name": "ipython",
    "version": 3
   },
   "file_extension": ".py",
   "mimetype": "text/x-python",
   "name": "python",
   "nbconvert_exporter": "python",
   "pygments_lexer": "ipython3",
   "version": "3.8.10"
  }
 },
 "nbformat": 4,
 "nbformat_minor": 4
}
