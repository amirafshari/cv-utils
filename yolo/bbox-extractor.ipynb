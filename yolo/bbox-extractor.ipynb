{
 "cells": [
  {
   "cell_type": "code",
   "execution_count": 1,
   "id": "45fba5f5-fd7e-481e-ad44-22937470ffe5",
   "metadata": {},
   "outputs": [],
   "source": [
    "import numpy as np\n",
    "import os\n",
    "\n",
    "# image processing\n",
    "from skimage import color, exposure, transform, io\n",
    "from PIL import Image\n",
    "\n",
    "# viz\n",
    "import matplotlib.pyplot as plt"
   ]
  },
  {
   "cell_type": "code",
   "execution_count": 2,
   "id": "ee99b67d-9a7a-4f3a-83fb-de4557084413",
   "metadata": {},
   "outputs": [],
   "source": [
    "IMG_PATH = 'images'\n",
    "LABEL_PATH = 'labels'\n",
    "OUTPUT = 'outputs'"
   ]
  },
  {
   "cell_type": "code",
   "execution_count": 4,
   "id": "ee47bc22-c44f-4c1a-a2d1-80d4c19bd4a9",
   "metadata": {},
   "outputs": [],
   "source": [
    "for image in os.listdir(IMG_PATH):\n",
    "    ann = np.loadtxt(os.path.join(LABEL_PATH, image.replace(image[-4:], '.txt'))).tolist()\n",
    "\n",
    "    # Store the detected objects\n",
    "    img = io.imread(os.path.join(IMG_PATH, image))\n",
    "    h, w, c = img.shape\n",
    "    i = 0\n",
    "    \n",
    "    # multiple objects\n",
    "    if type(ann[0]) == list:\n",
    "        for obj in ann:\n",
    "            \n",
    "            # only extract class 0\n",
    "            if int(obj[0]) == 0:\n",
    "                try:\n",
    "                    x = int(obj[1]*w)\n",
    "                    y = int(obj[2]*h)\n",
    "                    width = int(obj[3]*w)\n",
    "                    height = int(obj[4]*h)\n",
    "                    x = int(x - width*.5)\n",
    "                    y = int(y - height*.5)\n",
    "\n",
    "                    obj_img =  img[y:y+height, x:x+width]\n",
    "                    obj_img = Image.fromarray(obj_img)\n",
    "\n",
    "                    image = f'{i}_' + image\n",
    "                    obj_img.save(os.path.join(OUTPUT, image))\n",
    "                    i += 1\n",
    "                except ValueError:\n",
    "                    pass\n",
    "                \n",
    "    # single object            \n",
    "    else:\n",
    "        \n",
    "        # only extract class 0\n",
    "        if int(ann[0]) == 0:\n",
    "            x = int(ann[1]*w)\n",
    "            y = int(ann[2]*h)\n",
    "            width = int(ann[3]*w)\n",
    "            height = int(ann[4]*h)\n",
    "            x = int(x - width*.5)\n",
    "            y = int(y - height*.5)\n",
    "\n",
    "            obj_img =  img[y:y+height, x:x+width]\n",
    "            obj_img = Image.fromarray(obj_img)\n",
    "\n",
    "            image = f'{i}_' + image\n",
    "            obj_img.save(os.path.join(OUTPUT, image))\n",
    "            i += 1"
   ]
  }
 ],
 "metadata": {
  "kernelspec": {
   "display_name": "Python 3 (ipykernel)",
   "language": "python",
   "name": "python3"
  },
  "language_info": {
   "codemirror_mode": {
    "name": "ipython",
    "version": 3
   },
   "file_extension": ".py",
   "mimetype": "text/x-python",
   "name": "python",
   "nbconvert_exporter": "python",
   "pygments_lexer": "ipython3",
   "version": "3.8.10"
  }
 },
 "nbformat": 4,
 "nbformat_minor": 5
}
