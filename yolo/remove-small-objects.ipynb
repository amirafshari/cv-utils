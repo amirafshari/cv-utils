{
 "cells": [
  {
   "cell_type": "code",
   "execution_count": 2,
   "id": "8761ac54-e63d-4361-a304-7d157f3c4507",
   "metadata": {},
   "outputs": [],
   "source": [
    "import os\n",
    "import numpy as np"
   ]
  },
  {
   "cell_type": "code",
   "execution_count": 21,
   "id": "c7f3577a-f473-43d8-9235-e0c94cebd9e4",
   "metadata": {
    "tags": []
   },
   "outputs": [],
   "source": [
    "# This script removes that specific small object from the labels, not the whole annotation file or image\n",
    "threshold = .01\n",
    "img_format = '.jpg'\n",
    "labels_path = 'traffic_lights_day/labels/'\n",
    "path = 'traffic_lights_day/'\n",
    "\n",
    "\n",
    "for item in os.listdir(labels_path):\n",
    "    ann = np.loadtxt(labels_path+item)\n",
    "    ann = ann.tolist()\n",
    "    \n",
    "    # multiple objects\n",
    "    if type(ann[0]) == list:\n",
    "        for obj in ann:\n",
    "            if (obj[3] < threshold) or (obj[4] < threshold):\n",
    "                ann.remove(obj)\n",
    "        if ann != []:\n",
    "            np.savetxt(labels_path+item, ann, fmt='%.10g')\n",
    "        else:\n",
    "            os.remove(path+item.replace(item[-4:], img_format))\n",
    "            os.remove(labels_path+item)\n",
    "                \n",
    "    # single object    \n",
    "    else:\n",
    "        if (ann[3] < threshold) or (ann[4] < threshold):\n",
    "            os.remove(labels_path+item)\n",
    "            os.remove(path+item.replace(item[-4:], img_format))"
   ]
  },
  {
   "cell_type": "code",
   "execution_count": null,
   "id": "2c29ff80-bcc9-4d19-8c4f-8cc037f81100",
   "metadata": {},
   "outputs": [],
   "source": [
    "# It needs multiple runs to delete all small object. FIX it"
   ]
  }
 ],
 "metadata": {
  "kernelspec": {
   "display_name": "Python 3 (ipykernel)",
   "language": "python",
   "name": "python3"
  },
  "language_info": {
   "codemirror_mode": {
    "name": "ipython",
    "version": 3
   },
   "file_extension": ".py",
   "mimetype": "text/x-python",
   "name": "python",
   "nbconvert_exporter": "python",
   "pygments_lexer": "ipython3",
   "version": "3.8.10"
  }
 },
 "nbformat": 4,
 "nbformat_minor": 5
}
