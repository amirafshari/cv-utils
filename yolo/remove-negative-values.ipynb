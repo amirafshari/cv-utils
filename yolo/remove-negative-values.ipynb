{
 "cells": [
  {
   "cell_type": "code",
   "execution_count": 1,
   "id": "03b73d8c-c77f-4d70-bb4b-78517dd64ffb",
   "metadata": {},
   "outputs": [],
   "source": [
    "import os\n",
    "import numpy as np"
   ]
  },
  {
   "cell_type": "code",
   "execution_count": 2,
   "id": "4028d5a4-05dd-4d5a-864a-e127ca7fed88",
   "metadata": {},
   "outputs": [],
   "source": [
    "path = 'train/labels/'"
   ]
  },
  {
   "cell_type": "code",
   "execution_count": 3,
   "id": "cc7c9444-0315-40d5-9f3b-db29171e458b",
   "metadata": {},
   "outputs": [],
   "source": [
    "negatives = []"
   ]
  },
  {
   "cell_type": "code",
   "execution_count": null,
   "id": "00ebd3b3-5c73-47aa-9c5e-79df0a291592",
   "metadata": {},
   "outputs": [],
   "source": [
    "for item in os.listdir(path):\n",
    "    if item.endswith('.txt'):\n",
    "        file = np.loadtxt(os.path.join(path, item))\n",
    "        if np.any(file < 0):\n",
    "            for obj in file:\n",
    "                print(file)\n",
    "                if np.any(obj < 0):\n",
    "                    if type(obj) == np.ndarray:\n",
    "                        file = file.tolist()\n",
    "                        file.remove(obj)\n",
    "                    else:\n",
    "                        negatives.append(item)\n",
    "            np.savetxt(item, file)"
   ]
  }
 ],
 "metadata": {
  "kernelspec": {
   "display_name": "Python 3 (ipykernel)",
   "language": "python",
   "name": "python3"
  },
  "language_info": {
   "codemirror_mode": {
    "name": "ipython",
    "version": 3
   },
   "file_extension": ".py",
   "mimetype": "text/x-python",
   "name": "python",
   "nbconvert_exporter": "python",
   "pygments_lexer": "ipython3",
   "version": "3.8.10"
  }
 },
 "nbformat": 4,
 "nbformat_minor": 5
}
