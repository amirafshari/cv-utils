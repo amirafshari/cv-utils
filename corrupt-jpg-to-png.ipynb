{
 "cells": [
  {
   "cell_type": "code",
   "execution_count": null,
   "metadata": {},
   "outputs": [],
   "source": [
    "import glob\n",
    "import subprocess\n",
    "import os\n",
    "import re\n",
    "import logging\n",
    "import traceback\n",
    "\n",
    "filelist=glob.glob(\"barcode-data/images/train/*.jpg\")\n",
    "for file_obj in filelist:\n",
    "    try:\n",
    "        jpg_str = subprocess.check_output(['file', file_obj]).decode()\n",
    "        if (re.search('PNG image data', jpg_str, re.IGNORECASE)) or (re.search('Png patch', jpg_str, re.IGNORECASE)): \n",
    "\n",
    "            old_path = os.path.splitext(file_obj)\n",
    "            if not os.path.isfile(old_path[0]+'.png'):\n",
    "                new_file = old_path[0]+'.png'\n",
    "            elif not os.path.isfile(file_obj+'.png'):\n",
    "                new_file = file_obj+'.png'\n",
    "            else:\n",
    "                print(\"Found PNG hiding as JPEG but couldn't rename:\", file_obj)\n",
    "                continue\n",
    "\n",
    "            print(\"Found PNG hiding as JPEG, renaming:\", file_obj, '->', new_file)\n",
    "            subprocess.run(['mv', file_obj, new_file])\n",
    "\n",
    "    except Exception as e:\n",
    "        logging.error(traceback.format_exc()) \n",
    "\n",
    "print(\"Cleaning JPEGs done\")"
   ]
  }
 ],
 "metadata": {
  "language_info": {
   "name": "python"
  },
  "orig_nbformat": 4
 },
 "nbformat": 4,
 "nbformat_minor": 2
}
