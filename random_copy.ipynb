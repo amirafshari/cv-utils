{
 "cells": [
  {
   "cell_type": "code",
   "execution_count": 1,
   "id": "fa4e9588-1f4c-43b4-85b8-93e57b54024a",
   "metadata": {},
   "outputs": [],
   "source": [
    "import os\n",
    "import shutil\n",
    "import numpy as np"
   ]
  },
  {
   "cell_type": "code",
   "execution_count": 2,
   "id": "04b842c1-4fbf-47b3-927b-adc3ed50bd27",
   "metadata": {},
   "outputs": [],
   "source": [
    "def random_move(src_path, dst_path, n):\n",
    "    files = os.listdir(src_path)\n",
    "    np.random.shuffle(files)\n",
    "    random_move.new_list = files[:n]\n",
    "    \n",
    "    for e in random_move.new_list:\n",
    "            shutil.move(os.path.join(src_path, e), os.path.join(dst_path, e))"
   ]
  },
  {
   "cell_type": "code",
   "execution_count": 11,
   "id": "4f67dbe9-208b-436b-9a41-323ade2bd0a2",
   "metadata": {},
   "outputs": [],
   "source": [
    "SRC_PATH = 'barcode-data-512.384/training/images'\n",
    "DST_PATH = 'barcode-data-512.384/training/out'\n",
    "n = 150"
   ]
  },
  {
   "cell_type": "code",
   "execution_count": 12,
   "id": "9779701f-8972-4b51-aa7e-66862c38183d",
   "metadata": {},
   "outputs": [],
   "source": [
    "random_move(SRC_PATH, DST_PATH, n)"
   ]
  },
  {
   "cell_type": "markdown",
   "id": "1db77cc3-709e-4283-abb4-31358da192cc",
   "metadata": {},
   "source": [
    "# Move their corresponding txt files"
   ]
  },
  {
   "cell_type": "code",
   "execution_count": 5,
   "id": "39ba7c65-64d9-4e10-9fe0-2ce6bb5a87e4",
   "metadata": {},
   "outputs": [],
   "source": [
    "def move_txt(src_path, dst_path):\n",
    "    txt_list = [e.replace(e[-4:], '.txt') for e in random_move.new_list]\n",
    "    for e in txt_list:\n",
    "            shutil.move(os.path.join(src_path, e), os.path.join(dst_path, e))"
   ]
  },
  {
   "cell_type": "code",
   "execution_count": 13,
   "id": "e2e3f73a-bc98-466d-8832-66c9a86a0159",
   "metadata": {},
   "outputs": [],
   "source": [
    "SRC_PATH = 'barcode-data-512.384/training/yolo'\n",
    "DST_PATH = 'barcode-data-512.384/training/out2'"
   ]
  },
  {
   "cell_type": "code",
   "execution_count": 14,
   "id": "4012f4a5-150c-48b0-9e7d-cb431e96fbec",
   "metadata": {},
   "outputs": [],
   "source": [
    "move_txt(SRC_PATH, DST_PATH)"
   ]
  }
 ],
 "metadata": {
  "kernelspec": {
   "display_name": "Python 3 (ipykernel)",
   "language": "python",
   "name": "python3"
  },
  "language_info": {
   "codemirror_mode": {
    "name": "ipython",
    "version": 3
   },
   "file_extension": ".py",
   "mimetype": "text/x-python",
   "name": "python",
   "nbconvert_exporter": "python",
   "pygments_lexer": "ipython3",
   "version": "3.8.10"
  }
 },
 "nbformat": 4,
 "nbformat_minor": 5
}
