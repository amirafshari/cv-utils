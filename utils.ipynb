{
 "cells": [
  {
   "cell_type": "code",
   "execution_count": 1,
   "id": "0c1dd194-d256-441d-8d38-9c3cdefdfbfc",
   "metadata": {},
   "outputs": [],
   "source": [
    "import os\n",
    "import numpy as np"
   ]
  },
  {
   "cell_type": "code",
   "execution_count": 14,
   "id": "3569c0c3-ebc2-4fea-addc-556774c5cbce",
   "metadata": {},
   "outputs": [],
   "source": [
    "LABEL_PATH = 'outputs/labels'\n",
    "IMG_PATH = 'outputs/images'"
   ]
  },
  {
   "cell_type": "markdown",
   "id": "4c70a2e7-ce4e-4a32-aa51-b1a7ab5ee668",
   "metadata": {
    "tags": []
   },
   "source": [
    "# Find corrupt values in YOLO annotations and delete the file"
   ]
  },
  {
   "cell_type": "code",
   "execution_count": null,
   "id": "212bfbf3-0af0-49ef-9793-ea1037068f93",
   "metadata": {},
   "outputs": [],
   "source": [
    "for img in os.listdir(IMG_PATH):\n",
    "    txt = img.replace(img[-4:],'.txt')\n",
    "    file = np.loadtxt(os.path.join(PATH, txt))\n",
    "    if np.any(file < 0) or np.any(file > 1):\n",
    "        print(img)\n",
    "        os.remove(os.path.join(IMG_PATH, img))\n",
    "        os.remove(os.path.join(LABEL_PATH, txt))"
   ]
  },
  {
   "cell_type": "markdown",
   "id": "1bf50f1d-9f4b-4b2a-9998-1ccd7ccff34f",
   "metadata": {},
   "source": [
    "# Compare \"images\" and \"labels\" folders"
   ]
  },
  {
   "cell_type": "code",
   "execution_count": 16,
   "id": "838c9002-b180-4550-a205-f66ed942e776",
   "metadata": {},
   "outputs": [
    {
     "name": "stdout",
     "output_type": "stream",
     "text": [
      "Only found in images ['aug-464']\n"
     ]
    }
   ],
   "source": [
    "labels = os.listdir(IMG_PATH)\n",
    "labels = [e[:-4] for e in labels]\n",
    "images = os.listdir(LABEL_PATH)\n",
    "images = [e[:-4] for e in images]\n",
    "\n",
    "l_i = set(labels) - set(images)\n",
    "i_l = set(images) - set(labels)\n",
    "\n",
    "if l_i != set() or i_l != set():\n",
    "    if l_i != set():\n",
    "        l_i = list(l_i)\n",
    "        print('Only found in images', l_i)\n",
    "    if i_l != set():\n",
    "        i_l = list(i_l)\n",
    "        print('Only found in labels', i_l)\n",
    "else:\n",
    "    print('No Any Difference!')"
   ]
  },
  {
   "cell_type": "markdown",
   "id": "6497e4a3-5ed3-474b-9d7e-9678c7eceae6",
   "metadata": {},
   "source": [
    "# Split to train, val, test"
   ]
  },
  {
   "cell_type": "code",
   "execution_count": null,
   "id": "58f8be1c-320b-44a2-bde2-683431ce4400",
   "metadata": {},
   "outputs": [],
   "source": [
    "size = len(os.listdir(LABEL_APTH))"
   ]
  },
  {
   "cell_type": "code",
   "execution_count": null,
   "id": "03c2e3ba-2af3-4840-a7f2-46a8a8d10b58",
   "metadata": {},
   "outputs": [],
   "source": [
    "i, j, k = size*.8, size*.15, size*.05"
   ]
  },
  {
   "cell_type": "code",
   "execution_count": null,
   "id": "20790a89-cf08-4eb0-8fc0-d570c08ab199",
   "metadata": {},
   "outputs": [],
   "source": [
    "items = []\n",
    "train = []\n",
    "test = []\n",
    "val = []\n",
    "\n",
    "\n",
    "for item in os.listdir(LABEL_PATH):\n",
    "    items.append(item.replace(item[:-4],''))\n",
    "np.random.shuffle(items)\n",
    "\n",
    "\n",
    "# train\n",
    "for i in range(train_size):\n",
    "    train.append(items[i])\n",
    "items = list(set(items) - set(train))\n",
    "\n",
    "\n",
    "# val\n",
    "for j in range(val_size):\n",
    "    val.append(items[j])\n",
    "items = list(set(items) - set(val))\n",
    "\n",
    "\n",
    "# test\n",
    "for k in range(test_size):\n",
    "    test.append(items[k])"
   ]
  },
  {
   "cell_type": "markdown",
   "id": "d510c072-554e-4726-a763-58293f6f0a7d",
   "metadata": {},
   "source": [
    "# Convert corrupt JPGs to PNGs"
   ]
  },
  {
   "cell_type": "code",
   "execution_count": null,
   "id": "85bf1eb8-ae4f-48d0-abec-08829ac62290",
   "metadata": {},
   "outputs": [],
   "source": [
    "import glob\n",
    "import subprocess\n",
    "import re\n",
    "import logging\n",
    "import traceback"
   ]
  },
  {
   "cell_type": "code",
   "execution_count": null,
   "id": "63220f9a-ccbc-424f-91cb-7955c1be619d",
   "metadata": {},
   "outputs": [],
   "source": [
    "filelist = glob.glob(\"inputs/images/*.jpg\")\n",
    "for file_obj in filelist:\n",
    "    try:\n",
    "        jpg_str = subprocess.check_output(['file', file_obj]).decode()\n",
    "        if (re.search('PNG image data', jpg_str, re.IGNORECASE)) or (re.search('Png patch', jpg_str, re.IGNORECASE)): \n",
    "\n",
    "            old_path = os.path.splitext(file_obj)\n",
    "            if not os.path.isfile(old_path[0]+'.png'):\n",
    "                new_file = old_path[0]+'.png'\n",
    "            elif not os.path.isfile(file_obj+'.png'):\n",
    "                new_file = file_obj+'.png'\n",
    "            else:\n",
    "                print(\"Found PNG hiding as JPEG but couldn't rename:\", file_obj)\n",
    "                continue\n",
    "\n",
    "            print(\"Found PNG hiding as JPEG, renaming:\", file_obj, '->', new_file)\n",
    "            subprocess.run(['mv', file_obj, new_file])\n",
    "\n",
    "    except Exception as e:\n",
    "        logging.error(traceback.format_exc()) \n",
    "\n",
    "print(\"Cleaning JPEGs done\")"
   ]
  }
 ],
 "metadata": {
  "kernelspec": {
   "display_name": "Python 3 (ipykernel)",
   "language": "python",
   "name": "python3"
  },
  "language_info": {
   "codemirror_mode": {
    "name": "ipython",
    "version": 3
   },
   "file_extension": ".py",
   "mimetype": "text/x-python",
   "name": "python",
   "nbconvert_exporter": "python",
   "pygments_lexer": "ipython3",
   "version": "3.8.10"
  }
 },
 "nbformat": 4,
 "nbformat_minor": 5
}
