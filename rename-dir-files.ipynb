{
 "cells": [
  {
   "cell_type": "code",
   "execution_count": null,
   "metadata": {},
   "outputs": [],
   "source": [
    "import os\n",
    "\n",
    "# list the directory\n",
    "path = 'barcode-data/labels/voc/val'\n",
    "dir_list = os.listdir(path)\n",
    "\n",
    "# create a dictionary and sort it\n",
    "dir_dic = {}\n",
    "for e in dir_list:\n",
    "    dir_dic[e] = int(e[:-4])\n",
    "dir_dic = dict(sorted(dir_dic.items(), key=lambda item: item[1]))\n",
    "\n",
    "\n",
    "# rename\n",
    "i = 1675\n",
    "fmt = 'xml'\n",
    "for key in dir_dic.keys():\n",
    "    os.rename(os.path.join(path, key), os.path.join(path, f'{i}.{fmt}'))\n",
    "    i += 1"
   ]
  }
 ],
 "metadata": {
  "language_info": {
   "name": "python"
  },
  "orig_nbformat": 4
 },
 "nbformat": 4,
 "nbformat_minor": 2
}
