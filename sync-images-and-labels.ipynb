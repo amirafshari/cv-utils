{
 "cells": [
  {
   "cell_type": "code",
   "execution_count": 1,
   "id": "df8f5637-c092-4e51-855c-131cbb70f2b5",
   "metadata": {},
   "outputs": [],
   "source": [
    "import os"
   ]
  },
  {
   "cell_type": "code",
   "execution_count": 2,
   "id": "e7895aa5-5315-4d08-97b3-949d5245da68",
   "metadata": {},
   "outputs": [],
   "source": [
    "names = []\n",
    "for img in os.listdir('images/'):\n",
    "    names.append(img.replace(img[-4:], '.txt'))"
   ]
  },
  {
   "cell_type": "code",
   "execution_count": 3,
   "id": "19eaa6a0-c17f-4d29-b3b9-f4401f986bc7",
   "metadata": {},
   "outputs": [],
   "source": [
    "for label in os.listdir('labels/'):\n",
    "    if label not in names:\n",
    "        os.remove(os.path.join('labels/', label))"
   ]
  },
  {
   "cell_type": "code",
   "execution_count": null,
   "id": "f0ce2887",
   "metadata": {},
   "outputs": [],
   "source": []
  }
 ],
 "metadata": {
  "kernelspec": {
   "display_name": "Python 3 (ipykernel)",
   "language": "python",
   "name": "python3"
  },
  "language_info": {
   "codemirror_mode": {
    "name": "ipython",
    "version": 3
   },
   "file_extension": ".py",
   "mimetype": "text/x-python",
   "name": "python",
   "nbconvert_exporter": "python",
   "pygments_lexer": "ipython3",
   "version": "3.8.8"
  }
 },
 "nbformat": 4,
 "nbformat_minor": 5
}
