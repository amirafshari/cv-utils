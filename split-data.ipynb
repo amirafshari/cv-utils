{
 "cells": [
  {
   "cell_type": "code",
   "execution_count": 4,
   "id": "0548d429-65d0-4750-93d9-3f0e46e54f79",
   "metadata": {},
   "outputs": [],
   "source": [
    "import os\n",
    "import shutil\n",
    "import zipfile\n",
    "import random"
   ]
  },
  {
   "cell_type": "markdown",
   "id": "82f4f678-f968-4077-be6e-5e68256b8393",
   "metadata": {},
   "source": [
    "# YOLOv5"
   ]
  },
  {
   "cell_type": "code",
   "execution_count": 38,
   "id": "4a0936df-7332-4ce9-a61d-6064a5cb62f0",
   "metadata": {},
   "outputs": [],
   "source": [
    "def splitor(tr, root):\n",
    "    # Create YOLOv5 style directory\n",
    "    try:\n",
    "        os.mkdir('dataset')\n",
    "        os.mkdir('dataset/images')\n",
    "        os.mkdir('dataset/labels')\n",
    "\n",
    "        os.mkdir('dataset/images/train')\n",
    "        os.mkdir('dataset/labels/train')\n",
    "\n",
    "        os.mkdir('dataset/images/test')\n",
    "        os.mkdir('dataset/labels/test')\n",
    "\n",
    "        os.mkdir('dataset/images/val')\n",
    "        os.mkdir('dataset/labels/val')\n",
    "    except FileExistsError:\n",
    "        pass\n",
    "    \n",
    "    # Path\n",
    "    img_path = os.path.join(root, 'images')\n",
    "    label_path = os.path.join(root, 'labels')\n",
    "    \n",
    "    # All of em\n",
    "    items = []\n",
    "    for item in os.listdir(img_path):\n",
    "        #if item.endswith(img_format):\n",
    "        items.append(item)\n",
    "    random.shuffle(items)\n",
    "\n",
    "\n",
    "    train = []\n",
    "    test = []\n",
    "    val = []\n",
    "    \n",
    "    train_size = int(tr * len(items))\n",
    "    val_size = int((len(items) - train_size)/2)\n",
    "    test_size = val_size\n",
    "    \n",
    "    # train\n",
    "    for i in range(train_size):\n",
    "        train.append(items[i])\n",
    "\n",
    "    items = list(set(items) - set(train))\n",
    "    \n",
    "    # val\n",
    "    for i in range(val_size):\n",
    "        val.append(items[i])\n",
    "    \n",
    "    items = list(set(items) - set(val))\n",
    "\n",
    "    # test\n",
    "    for i in range(test_size):\n",
    "        test.append(items[i])\n",
    "\n",
    "        \n",
    "        \n",
    "    # Copying\n",
    "    try:\n",
    "        for item in train:\n",
    "            shutil.copyfile(os.path.join(img_path, item), os.path.join('dataset/images/train', item))\n",
    "\n",
    "            label = item.replace(item[-4:], '.txt')\n",
    "            shutil.copyfile(os.path.join(label_path, label), os.path.join('dataset/labels/train', label))\n",
    "            \n",
    "    except FileNotFoundError:\n",
    "        print(item)\n",
    "        \n",
    "        \n",
    "    try:\n",
    "\n",
    "        for item in test:\n",
    "            shutil.copyfile(os.path.join(img_path, item), os.path.join('dataset/images/test', item))\n",
    "\n",
    "            label = item.replace(item[-4:], '.txt')\n",
    "            shutil.copyfile(os.path.join(label_path, label), os.path.join('dataset/labels/test', label))\n",
    "    except FileNotFoundError:\n",
    "        print(item)\n",
    "        \n",
    "        \n",
    "    try:\n",
    "        for item in val:\n",
    "            shutil.copyfile(os.path.join(img_path, item), os.path.join('dataset/images/val', item))\n",
    "\n",
    "            label = item.replace(item[-4:], '.txt')\n",
    "            shutil.copyfile(os.path.join(label_path, label), os.path.join('dataset/labels/val', label))\n",
    "            \n",
    "    except FileNotFoundError:\n",
    "        print(item)\n",
    "            \n",
    "    print('Done')"
   ]
  },
  {
   "cell_type": "code",
   "execution_count": 39,
   "id": "1eb7cbeb-d678-44f7-9693-1fa404708465",
   "metadata": {},
   "outputs": [
    {
     "name": "stdout",
     "output_type": "stream",
     "text": [
      "Done\n"
     ]
    }
   ],
   "source": [
    "f = splitor(.8, 'data')"
   ]
  },
  {
   "cell_type": "markdown",
   "id": "eaf4f541-b04e-48cb-8282-402b24864720",
   "metadata": {
    "tags": []
   },
   "source": [
    "# Fiftyone"
   ]
  },
  {
   "cell_type": "code",
   "execution_count": 17,
   "id": "ee0a3527-664f-4da3-af84-bf39e926ccdc",
   "metadata": {},
   "outputs": [],
   "source": [
    "try:\n",
    "    os.mkdir('fo_dataset/')\n",
    "    os.mkdir('fo_dataset/images/')\n",
    "    os.mkdir('fo_dataset/labels/')\n",
    "    os.mkdir('fo_dataset/images/train/')\n",
    "    os.mkdir('fo_dataset/images/test/')\n",
    "    os.mkdir('fo_dataset/images/val/')\n",
    "    os.mkdir('fo_dataset/labels/train/')\n",
    "    os.mkdir('fo_dataset/labels/test/')\n",
    "    os.mkdir('fo_dataset/labels/val/')\n",
    "except FileExistsError:\n",
    "    pass\n",
    "\n",
    "def yolo_fo(i_path, f_path):\n",
    "    for folder in os.listdir(i_path):\n",
    "        for image in os.listdir(os.path.join(i_path, folder, 'images')):\n",
    "            shutil.copyfile(os.path.join(i_path, folder, 'images/', image), os.path.join(f_path, 'images/', folder, image))\n",
    "            \n",
    "        for label in os.listdir(os.path.join(i_path, folder, 'labels')):\n",
    "            shutil.copyfile(os.path.join(i_path, folder, 'labels/', label), os.path.join(f_path, 'labels/', folder, label))\n",
    "    print('Done')"
   ]
  },
  {
   "cell_type": "code",
   "execution_count": 18,
   "id": "1c8671be-48b2-45d2-adb0-07e0a9e9b015",
   "metadata": {},
   "outputs": [
    {
     "name": "stdout",
     "output_type": "stream",
     "text": [
      "Done\n"
     ]
    }
   ],
   "source": [
    "yolo_fo('dataset', 'fo_dataset')"
   ]
  }
 ],
 "metadata": {
  "kernelspec": {
   "display_name": "Python 3 (ipykernel)",
   "language": "python",
   "name": "python3"
  },
  "language_info": {
   "codemirror_mode": {
    "name": "ipython",
    "version": 3
   },
   "file_extension": ".py",
   "mimetype": "text/x-python",
   "name": "python",
   "nbconvert_exporter": "python",
   "pygments_lexer": "ipython3",
   "version": "3.8.10"
  }
 },
 "nbformat": 4,
 "nbformat_minor": 5
}
