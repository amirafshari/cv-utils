{
 "cells": [
  {
   "cell_type": "code",
   "execution_count": 1,
   "id": "926d2097-5bca-4b40-aa95-24c4c5f378ba",
   "metadata": {},
   "outputs": [],
   "source": [
    "import os"
   ]
  },
  {
   "cell_type": "code",
   "execution_count": null,
   "id": "508f206f",
   "metadata": {},
   "outputs": [],
   "source": [
    "path = 'Images'"
   ]
  },
  {
   "cell_type": "code",
   "execution_count": 2,
   "id": "1f100361-61ea-4e3f-bac2-e9019b43a7a5",
   "metadata": {},
   "outputs": [],
   "source": [
    "# moves files from multiple directories to a single directory\n",
    "for directory in os.listdir(path):\n",
    "    for file in os.listdir(os.path.join(path, directory)):\n",
    "        EX_PATH = os.path.join(path, directory, file)\n",
    "        NEW_PATH = os.path.join('neg/', file)\n",
    "        os.replace(EX_PATH, NEW_PATH)"
   ]
  }
 ],
 "metadata": {
  "kernelspec": {
   "display_name": "Python 3 (ipykernel)",
   "language": "python",
   "name": "python3"
  },
  "language_info": {
   "codemirror_mode": {
    "name": "ipython",
    "version": 3
   },
   "file_extension": ".py",
   "mimetype": "text/x-python",
   "name": "python",
   "nbconvert_exporter": "python",
   "pygments_lexer": "ipython3",
   "version": "3.8.10"
  }
 },
 "nbformat": 4,
 "nbformat_minor": 5
}
