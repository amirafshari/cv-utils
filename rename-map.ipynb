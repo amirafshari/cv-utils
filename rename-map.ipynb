{
 "cells": [
  {
   "cell_type": "code",
   "execution_count": 16,
   "id": "6c9b3ec1-e4e9-4527-8921-61b9bab6b186",
   "metadata": {},
   "outputs": [],
   "source": [
    "import os"
   ]
  },
  {
   "cell_type": "code",
   "execution_count": 23,
   "id": "5179f9cf-3ea6-447c-8a21-1e8da534ed11",
   "metadata": {},
   "outputs": [],
   "source": [
    "path = 'final/'"
   ]
  },
  {
   "cell_type": "code",
   "execution_count": 37,
   "id": "87aa8179-a34e-455f-87da-d5166374ed00",
   "metadata": {},
   "outputs": [],
   "source": [
    "maap = {\n",
    "    10:41,\n",
    "    11:32,\n",
    "    12:31,\n",
    "    20:27,\n",
    "    21:26,\n",
    "    23:78,\n",
    "    24:77,\n",
    "    25:64,\n",
    "    26:65,\n",
    "    27:56,\n",
    "    28:54,\n",
    "    29:53,\n",
    "    30:52,\n",
    "    31:44,\n",
    "    45:32,\n",
    "    44:31\n",
    "}"
   ]
  },
  {
   "cell_type": "code",
   "execution_count": 38,
   "id": "0a4a92a5-cb8b-44c0-aef6-ac2f0a5670e3",
   "metadata": {},
   "outputs": [],
   "source": [
    "for folder in os.listdir(path):\n",
    "    for img in os.listdir(os.path.join(path, folder)):\n",
    "        split = img.split('_')\n",
    "        try:\n",
    "            split[0] = str(maap[int(split[0])])\n",
    "        except KeyError:\n",
    "            pass\n",
    "        string = split[0] + '_' + split[1]\n",
    "        \n",
    "        os.rename(os.path.join(path, folder,img), os.path.join(path, folder,string))"
   ]
  }
 ],
 "metadata": {
  "kernelspec": {
   "display_name": "Python 3 (ipykernel)",
   "language": "python",
   "name": "python3"
  },
  "language_info": {
   "codemirror_mode": {
    "name": "ipython",
    "version": 3
   },
   "file_extension": ".py",
   "mimetype": "text/x-python",
   "name": "python",
   "nbconvert_exporter": "python",
   "pygments_lexer": "ipython3",
   "version": "3.8.10"
  }
 },
 "nbformat": 4,
 "nbformat_minor": 5
}
